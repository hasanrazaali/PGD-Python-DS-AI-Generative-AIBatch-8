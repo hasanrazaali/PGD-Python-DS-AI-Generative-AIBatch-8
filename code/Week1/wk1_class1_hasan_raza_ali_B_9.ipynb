{
 "cells": [
  {
   "cell_type": "code",
   "execution_count": 1,
   "metadata": {},
   "outputs": [
    {
     "name": "stdout",
     "output_type": "stream",
     "text": [
      "==========================================\n",
      "==========================================\n",
      "Name = Hasan Raza Ali\n",
      "Age = 45\n",
      "Gender = Male\n",
      "Designation = Lead Project Management\n",
      "Occupation = Project Management Professional\n",
      "Education = MSc Business Analytics\n",
      "Organization = Kyndryl\n",
      "==========================================\n"
     ]
    }
   ],
   "source": [
    "# Week 1 Class 1 12-Oct-2024\n",
    "# Hasan Raza Ali\n",
    "\n",
    "# Separator line for formatting\n",
    "separator = \"==========================================\"\n",
    "\n",
    "# Personal information\n",
    "name = \"Hasan Raza Ali\"\n",
    "age = \"45\"\n",
    "gender = \"Male\"\n",
    "designation = \"Lead Project Management\"\n",
    "occupation = \"Project Management Professional\"\n",
    "education = \"MSc Business Analytics\"\n",
    "organization = \"Kyndryl\"\n",
    "\n",
    "# Print the information\n",
    "print(separator)\n",
    "print(separator)\n",
    "print(\"Name = \" + name)  # Using string concatenation\n",
    "print(\"Age = \" + age)\n",
    "print(\"Gender = \" + gender)\n",
    "print(\"Designation = \" + designation)\n",
    "print(\"Occupation = \" + occupation)\n",
    "print(\"Education = \" + education)\n",
    "print(\"Organization = \" + organization)\n",
    "print(separator)\n"
   ]
  }
 ],
 "metadata": {
  "kernelspec": {
   "display_name": "Python 3",
   "language": "python",
   "name": "python3"
  },
  "language_info": {
   "codemirror_mode": {
    "name": "ipython",
    "version": 3
   },
   "file_extension": ".py",
   "mimetype": "text/x-python",
   "name": "python",
   "nbconvert_exporter": "python",
   "pygments_lexer": "ipython3",
   "version": "3.10.15"
  }
 },
 "nbformat": 4,
 "nbformat_minor": 2
}
